{
 "cells": [
  {
   "cell_type": "code",
   "execution_count": null,
   "metadata": {},
   "outputs": [],
   "source": [
    "#Ques1"
   ]
  },
  {
   "cell_type": "code",
   "execution_count": 16,
   "metadata": {},
   "outputs": [
    {
     "name": "stdout",
     "output_type": "stream",
     "text": [
      "numbers of iterations : =  18\n"
     ]
    },
    {
     "data": {
      "text/plain": [
       "-1.9999980926513672"
      ]
     },
     "execution_count": 16,
     "metadata": {},
     "output_type": "execute_result"
    }
   ],
   "source": [
    "import numpy as np\n",
    "def function(x):\n",
    "    return 2*x**2 + 6*x + 4\n",
    "\n",
    "def bisection_method(f , a ,b , tolerance):\n",
    "    counter=0\n",
    "    while abs(b - a) > tolerance:\n",
    "        counter+=1\n",
    "        g = (a + b) / 2\n",
    "        if f(a) * f(g) < 0:\n",
    "            b = g\n",
    "        else:\n",
    "            a = g \n",
    "    print('numbers of iterations : = ' , counter)\n",
    "    return g\n",
    "\n",
    "\n",
    "bisection_method(function ,-3,-1.5, 1e-5)\n"
   ]
  },
  {
   "cell_type": "code",
   "execution_count": null,
   "metadata": {},
   "outputs": [],
   "source": []
  },
  {
   "cell_type": "code",
   "execution_count": null,
   "metadata": {},
   "outputs": [],
   "source": [
    "#ques1(2)"
   ]
  },
  {
   "cell_type": "code",
   "execution_count": 60,
   "metadata": {},
   "outputs": [
    {
     "name": "stdout",
     "output_type": "stream",
     "text": [
      "numbers of iterations : =  0\n"
     ]
    },
    {
     "data": {
      "text/plain": [
       "-2.0"
      ]
     },
     "execution_count": 60,
     "metadata": {},
     "output_type": "execute_result"
    }
   ],
   "source": [
    "import numpy as np \n",
    "import math\n",
    "def g(x):\n",
    "    return (-2*x**2-4)/6\n",
    "def fixedpoint_method(g, p, tolerance):\n",
    "    p1 = p\n",
    "    p2 = g(p1)\n",
    "    counter = 0\n",
    "    while abs(p2-p2)>tolerance :\n",
    "        counter+=1\n",
    "        p1 = p2 \n",
    "        p2 = g(p1) \n",
    "    print('numbers of iterations : = ' , counter)\n",
    "    return p2\n",
    "\n",
    "fixedpoint_method(g, 2, 1e-5)"
   ]
  },
  {
   "cell_type": "code",
   "execution_count": null,
   "metadata": {},
   "outputs": [],
   "source": []
  },
  {
   "cell_type": "code",
   "execution_count": null,
   "metadata": {},
   "outputs": [],
   "source": [
    "#ques(3)"
   ]
  },
  {
   "cell_type": "code",
   "execution_count": 44,
   "metadata": {},
   "outputs": [
    {
     "name": "stdout",
     "output_type": "stream",
     "text": [
      "numbers of iterations : =  435\n"
     ]
    },
    {
     "data": {
      "text/plain": [
       "-2.000411913584308"
      ]
     },
     "execution_count": 44,
     "metadata": {},
     "output_type": "execute_result"
    }
   ],
   "source": [
    "import math \n",
    "import numpy as np \n",
    "def f(x): \n",
    "    return 2*x**2 + 6*x + 4\n",
    "def df(x):\n",
    "    return 3*x**+4*x+10\n",
    "def newton_method (f, df, p, tolerance):\n",
    "    x1 = p\n",
    "    x2 = x1 - f(x1)/df(x1)\n",
    "    counter=0\n",
    "    while abs(x2-x1) > tolerance:\n",
    "        counter+=1\n",
    "        x1 = x2 \n",
    "        x2 = x1-f(x1)/df(x1)\n",
    "    print('numbers of iterations : = ' , counter)\n",
    "    return x2\n",
    "\n",
    "newton_method(f, df, -3, 1e-5)\n",
    "\n",
    "\n",
    "    "
   ]
  },
  {
   "cell_type": "code",
   "execution_count": 45,
   "metadata": {},
   "outputs": [],
   "source": [
    "#Ques2"
   ]
  },
  {
   "cell_type": "code",
   "execution_count": 58,
   "metadata": {},
   "outputs": [
    {
     "name": "stdout",
     "output_type": "stream",
     "text": [
      "numbers of iterations : =  0\n"
     ]
    },
    {
     "data": {
      "text/plain": [
       "-9.306852819440055"
      ]
     },
     "execution_count": 58,
     "metadata": {},
     "output_type": "execute_result"
    }
   ],
   "source": [
    "import numpy as np \n",
    "import math\n",
    "def g(x):\n",
    "    return np.log(x)-4*x-2\n",
    "def fixedpoint_method(g, p, tolerance):\n",
    "    p1 = p\n",
    "    p2 = g(p1)\n",
    "    counter = 0\n",
    "    while abs(p2-p2)>tolerance :\n",
    "        counter+=1\n",
    "        p1 = p2 \n",
    "        p2 = g(p1)\n",
    "    print('numbers of iterations : = ' , counter)\n",
    "    return p2\n",
    "\n",
    "fixedpoint_method(g, 2, 1e-5)"
   ]
  },
  {
   "cell_type": "code",
   "execution_count": null,
   "metadata": {},
   "outputs": [],
   "source": [
    "#Ques3 "
   ]
  },
  {
   "cell_type": "code",
   "execution_count": 42,
   "metadata": {},
   "outputs": [
    {
     "name": "stdout",
     "output_type": "stream",
     "text": [
      "numbers of iterations : =  17\n"
     ]
    },
    {
     "data": {
      "text/plain": [
       "2.1937484741210938"
      ]
     },
     "execution_count": 42,
     "metadata": {},
     "output_type": "execute_result"
    }
   ],
   "source": [
    "import numpy as np\n",
    "def function(x):\n",
    "    return np.exp(x)-5*x+2\n",
    "\n",
    "def bisection_method(f , a ,b , tolerance):\n",
    "    counter=0\n",
    "    while abs(b - a) > tolerance:\n",
    "        counter+=1\n",
    "        g = (a + b) / 2\n",
    "        if f(a) * f(g) < 0:\n",
    "            b = g\n",
    "        else:\n",
    "            a = g \n",
    "    print('numbers of iterations : = ' , counter)\n",
    "    return g\n",
    "\n",
    "\n",
    "bisection_method(function ,2,3, 1e-5)\n"
   ]
  },
  {
   "cell_type": "code",
   "execution_count": null,
   "metadata": {},
   "outputs": [],
   "source": [
    "#ques3(2)"
   ]
  },
  {
   "cell_type": "code",
   "execution_count": 43,
   "metadata": {},
   "outputs": [
    {
     "name": "stdout",
     "output_type": "stream",
     "text": [
      "numbers of iterations : =  3\n"
     ]
    },
    {
     "data": {
      "text/plain": [
       "0.8842181389559761"
      ]
     },
     "execution_count": 43,
     "metadata": {},
     "output_type": "execute_result"
    }
   ],
   "source": [
    "import math \n",
    "import numpy as np \n",
    "def f(x): \n",
    "    return np.exp(x)-5*x+2\n",
    "def df(x):\n",
    "    return np.exp(x)-5\n",
    "def newton_method (f, df, p, tolerance):\n",
    "    x1 = p\n",
    "    x2 = x1 - f(x1)/df(x1)\n",
    "    counter=0\n",
    "    while abs(x2-x1) > tolerance:\n",
    "        counter+=1\n",
    "        x1 = x2 \n",
    "        x2 = x1-f(x1)/df(x1)\n",
    "    print('numbers of iterations : = ' , counter)\n",
    "    return x2\n",
    "\n",
    "newton_method(f, df, 1, 1e-5)\n",
    "\n",
    "\n",
    "    "
   ]
  },
  {
   "cell_type": "code",
   "execution_count": null,
   "metadata": {},
   "outputs": [],
   "source": [
    "#Ques4 "
   ]
  },
  {
   "cell_type": "code",
   "execution_count": 54,
   "metadata": {},
   "outputs": [
    {
     "name": "stdout",
     "output_type": "stream",
     "text": [
      "numbers of iterations : =  7\n",
      "1.3688089781537878\n"
     ]
    }
   ],
   "source": [
    "import math \n",
    "import numpy as np \n",
    "def f(x): \n",
    "    return x**3 + 2*x**2 + 10*x-20\n",
    "def df(x):\n",
    "    return 3*x**+4*x+10\n",
    "def newton_method (f, df, p, tolerance):\n",
    "    x1 = p\n",
    "    x2 = x1 - f(x1)/df(x1)\n",
    "    counter=0\n",
    "    while abs(x2-x1) > tolerance:\n",
    "        counter+=1\n",
    "        x1 = x2 \n",
    "        x2 = x1-f(x1)/df(x1)\n",
    "    print('numbers of iterations : = ' , counter)\n",
    "    return x2\n",
    "\n",
    "answer=newton_method(f, df, 1, 1e-5)\n",
    "print(answer)\n",
    "    "
   ]
  },
  {
   "cell_type": "code",
   "execution_count": null,
   "metadata": {},
   "outputs": [],
   "source": []
  },
  {
   "cell_type": "code",
   "execution_count": null,
   "metadata": {},
   "outputs": [],
   "source": []
  },
  {
   "cell_type": "code",
   "execution_count": null,
   "metadata": {},
   "outputs": [],
   "source": []
  }
 ],
 "metadata": {
  "kernelspec": {
   "display_name": "Python 3",
   "language": "python",
   "name": "python3"
  },
  "language_info": {
   "codemirror_mode": {
    "name": "ipython",
    "version": 3
   },
   "file_extension": ".py",
   "mimetype": "text/x-python",
   "name": "python",
   "nbconvert_exporter": "python",
   "pygments_lexer": "ipython3",
   "version": "3.8.5"
  }
 },
 "nbformat": 4,
 "nbformat_minor": 4
}
